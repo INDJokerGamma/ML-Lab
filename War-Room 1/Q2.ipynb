{
 "cells": [
  {
   "cell_type": "code",
   "execution_count": 1,
   "id": "d41a0c64",
   "metadata": {},
   "outputs": [],
   "source": [
    "import pandas as pd\n",
    "import numpy as np\n",
    "import matplotlib.pyplot as plt\n",
    "from scipy.stats import norm\n",
    "from sklearn.model_selection import train_test_split\n"
   ]
  },
  {
   "cell_type": "code",
   "execution_count": 2,
   "id": "86bd8343",
   "metadata": {},
   "outputs": [
    {
     "name": "stdout",
     "output_type": "stream",
     "text": [
      "0    137.305966\n",
      "1    137.711723\n",
      "2    138.021724\n",
      "3    138.998110\n",
      "4    139.730915\n",
      "dtype: float64\n",
      "0    166.591092\n",
      "1    165.225585\n",
      "2    178.090931\n",
      "3    164.853975\n",
      "4    164.670041\n",
      "dtype: float64\n"
     ]
    }
   ],
   "source": [
    "# Generate female and male heights\n",
    "f_heights = np.random.normal(152, 5, 1000)\n",
    "m_heights = np.random.normal(166, 5, 1000)\n",
    "\n",
    "# Sort female heights and add outliers (increase 50 largest values by 10 cm)\n",
    "sorted_f_heights = np.sort(f_heights)\n",
    "for i in range(50):\n",
    "    sorted_f_heights[999-i] += 10\n",
    "\n",
    "# Convert to pandas series\n",
    "f_heights_series = pd.Series(sorted_f_heights)\n",
    "m_heights_series = pd.Series(m_heights)\n",
    "\n",
    "# Sizes\n",
    "num_females = f_heights_series.size\n",
    "num_males = m_heights_series.size\n",
    "total = num_females + num_males\n",
    "\n",
    "# Quick check\n",
    "print(f_heights_series.head())\n",
    "print(m_heights_series.head())\n"
   ]
  },
  {
   "cell_type": "code",
   "execution_count": 3,
   "id": "330affe4",
   "metadata": {},
   "outputs": [
    {
     "data": {
      "image/png": "[encoded data removed]",
      "text/plain": [
       "<Figure size 640x480 with 1 Axes>"
      ]
     },
     "metadata": {},
     "output_type": "display_data"
    }
   ],
   "source": [
    "plt.hist([f_heights_series, m_heights_series], bins=100, label=['female', 'male'])\n",
    "plt.legend(loc='upper right')\n",
    "plt.title(\"Height Distribution with Female Outliers\")\n",
    "plt.show()\n"
   ]
  },
  {
   "cell_type": "code",
   "execution_count": 4,
   "id": "f113318e",
   "metadata": {},
   "outputs": [],
   "source": [
    "def z_score(heights, threshold=2.5):\n",
    "    mean = heights.mean()\n",
    "    std = heights.std()\n",
    "    z_scores = (heights - mean) / std\n",
    "    return heights[abs(z_scores) < threshold]\n"
   ]
  },
  {
   "cell_type": "code",
   "execution_count": 5,
   "id": "53133ecb",
   "metadata": {},
   "outputs": [],
   "source": [
    "female_train_with_outliers, female_test_with_outliers = train_test_split(f_heights_series, test_size=0.2)\n",
    "male_train_with_outliers, male_test_with_outliers = train_test_split(m_heights_series, test_size=0.2)\n",
    "\n",
    "# Remove outliers from female training set\n",
    "female_train_without_outliers = z_score(female_train_with_outliers)\n"
   ]
  },
  {
   "cell_type": "code",
   "execution_count": 6,
   "id": "cd57486d",
   "metadata": {},
   "outputs": [],
   "source": [
    "def threshold_classifier(threshold_increment, f_heights, m_heights):\n",
    "    lower_bound = m_heights.min()\n",
    "    upper_bound = f_heights.max()\n",
    "    total = f_heights.size + m_heights.size\n",
    "\n",
    "    new_lower_bound = np.floor(lower_bound)\n",
    "    new_upper_bound = np.ceil(upper_bound)\n",
    "    \n",
    "    best_rate = 100.0\n",
    "    best_threshold = new_lower_bound\n",
    "    \n",
    "    for threshold in np.arange(new_lower_bound, new_upper_bound+1, threshold_increment):\n",
    "        misclassified_females = sum(f_heights > threshold)\n",
    "        misclassified_males = sum(m_heights < threshold)\n",
    "        mis_rate = 100.0 * (misclassified_females + misclassified_males) / total\n",
    "        if mis_rate < best_rate:\n",
    "            best_threshold = threshold\n",
    "            best_rate = mis_rate\n",
    "    return [best_threshold, best_rate]\n",
    "\n",
    "\n"
   ]
  },
  {
   "cell_type": "code",
   "execution_count": 7,
   "id": "c2aa2ac0",
   "metadata": {},
   "outputs": [],
   "source": [
    "def predict_threshold_classifier(female_test, male_test, threshold_result):\n",
    "    total = female_test.size + male_test.size\n",
    "    threshold = threshold_result[0]\n",
    "    male_errors = np.sum(male_test < threshold)\n",
    "    female_errors = np.sum(female_test > threshold)\n",
    "    mis_rate = 100 * (male_errors + female_errors) / total\n",
    "    return mis_rate"
   ]
  },
  {
   "cell_type": "code",
   "execution_count": 8,
   "id": "a11988ba",
   "metadata": {},
   "outputs": [
    {
     "name": "stdout",
     "output_type": "stream",
     "text": [
      "Train with outliers: [np.float64(159.5), 7.75]\n",
      "Train misclassification (with outliers): 7.75\n",
      "Train without outliers: [np.float64(159.5), 5.686900958466453]\n",
      "Train misclassification (without outliers): 5.686900958466453\n",
      "Test misclassification (with outliers): 7.5\n",
      "Test misclassification (without outliers): 7.5\n"
     ]
    }
   ],
   "source": [
    "\n",
    "# With outliers\n",
    "threshold_results = threshold_classifier(0.5, female_train_with_outliers, male_train_with_outliers)\n",
    "print(\"Train with outliers:\", threshold_results)\n",
    "print(\"Train misclassification (with outliers):\", predict_threshold_classifier(female_train_with_outliers, male_train_with_outliers, threshold_results))\n",
    "\n",
    "# Without outliers\n",
    "threshold_results_no = threshold_classifier(0.5, female_train_without_outliers, male_train_with_outliers)\n",
    "print(\"Train without outliers:\", threshold_results_no)\n",
    "print(\"Train misclassification (without outliers):\", predict_threshold_classifier(female_train_without_outliers, male_train_with_outliers, threshold_results_no))\n",
    "\n",
    "# On test set\n",
    "print(\"Test misclassification (with outliers):\", predict_threshold_classifier(female_test_with_outliers, male_test_with_outliers, threshold_results))\n",
    "print(\"Test misclassification (without outliers):\", predict_threshold_classifier(female_test_with_outliers, male_test_with_outliers, threshold_results_no))\n"
   ]
  },
  {
   "cell_type": "code",
   "execution_count": 9,
   "id": "302306db",
   "metadata": {},
   "outputs": [],
   "source": [
    "\n",
    "def probability_classifier(f_heights, m_heights):\n",
    "    total = f_heights.size + m_heights.size\n",
    "    male_mean, male_sd = m_heights.mean(), m_heights.std()\n",
    "    female_mean, female_sd = f_heights.mean(), f_heights.std()\n",
    "    \n",
    "    mis_females = sum(norm.pdf(h, female_mean, female_sd) < norm.pdf(h, male_mean, male_sd) for h in f_heights)\n",
    "    mis_males = sum(norm.pdf(h, male_mean, male_sd) < norm.pdf(h, female_mean, female_sd) for h in m_heights)\n",
    "    \n",
    "    mis_rate = 100.0 * (mis_females + mis_males) / total\n",
    "    return mis_rate, male_mean, male_sd, female_mean, female_sd\n"
   ]
  },
  {
   "cell_type": "code",
   "execution_count": 10,
   "id": "15022de3",
   "metadata": {},
   "outputs": [],
   "source": [
    "# %%\n",
    "def predict_probability(male_set, female_set, male_mean, male_std, female_mean, female_std):\n",
    "    total = male_set.size + female_set.size\n",
    "    mis_females = sum(norm.pdf(h, female_mean, female_std) < norm.pdf(h, male_mean, male_std) for h in female_set)\n",
    "    mis_males = sum(norm.pdf(h, male_mean, male_std) < norm.pdf(h, female_mean, female_std) for h in male_set)\n",
    "    return 100.0 * (mis_females + mis_males) / total\n",
    "\n",
    "# Train\n",
    "mis_with, male_mean, male_std, female_mean, female_std = probability_classifier(female_train_with_outliers, male_train_with_outliers)\n",
    "mis_without, male_mean_no, male_std_no, female_mean_no, female_std_no = probability_classifier(female_train_without_outliers, male_train_with_outliers)\n",
    "\n"
   ]
  },
  {
   "cell_type": "code",
   "execution_count": 11,
   "id": "be3fbe31",
   "metadata": {},
   "outputs": [
    {
     "name": "stdout",
     "output_type": "stream",
     "text": [
      "Probability misclassification (train with outliers): 7.875\n",
      "Probability misclassification (train without outliers): 5.7507987220447285\n",
      "Probability misclassification (test with outliers): 7.25\n",
      "Probability misclassification (test without outliers): 7.5\n"
     ]
    }
   ],
   "source": [
    "print(\"Probability misclassification (train with outliers):\", mis_with)\n",
    "print(\"Probability misclassification (train without outliers):\", mis_without)\n",
    "\n",
    "# Test\n",
    "print(\"Probability misclassification (test with outliers):\", predict_probability(male_test_with_outliers, female_test_with_outliers, male_mean, male_std, female_mean, female_std))\n",
    "print(\"Probability misclassification (test without outliers):\", predict_probability(male_test_with_outliers, female_test_with_outliers, male_mean_no, male_std_no, female_mean_no, female_std_no))\n"
   ]
  },
  {
   "cell_type": "code",
   "execution_count": 12,
   "id": "3a306e03",
   "metadata": {},
   "outputs": [],
   "source": [
    "def quantize(heights, interval_len):\n",
    "    labels = np.floor(heights / interval_len)\n",
    "    return labels.value_counts()\n"
   ]
  },
  {
   "cell_type": "code",
   "execution_count": 13,
   "id": "8ad272e3",
   "metadata": {},
   "outputs": [],
   "source": [
    "def local_classifier(interval_len, f_heights, m_heights):\n",
    "    total = f_heights.size + m_heights.size\n",
    "    male_q = quantize(m_heights, interval_len)\n",
    "    female_q = quantize(f_heights, interval_len)\n",
    "    \n",
    "    lower = int(male_q.index.min())\n",
    "    upper = int(female_q.index.max())\n",
    "    total_mis = 0\n",
    "    results = []\n",
    "    \n",
    "    for interval in range(lower, upper, 1):\n",
    "        f_count = female_q.get(interval, 0)\n",
    "        m_count = male_q.get(interval, 0)\n",
    "        error = min(f_count, m_count)\n",
    "        total_mis += error\n",
    "        results.append({\"interval\": interval, \"female_count\": f_count, \"male_count\": m_count})\n",
    "    \n",
    "    print(\"Misclassification =\", 100.0 * total_mis / total)\n",
    "    return pd.DataFrame(results)"
   ]
  },
  {
   "cell_type": "code",
   "execution_count": 14,
   "id": "cfd3d23b",
   "metadata": {},
   "outputs": [
    {
     "name": "stdout",
     "output_type": "stream",
     "text": [
      "Misclassification = 8.0625\n",
      "Misclassification = 3.194888178913738\n"
     ]
    }
   ],
   "source": [
    "local_error_with = local_classifier(2, female_train_with_outliers, male_train_with_outliers)\n",
    "local_error_without = local_classifier(2, female_train_without_outliers, male_train_with_outliers)"
   ]
  },
  {
   "cell_type": "code",
   "execution_count": null,
   "id": "8d9d1b79",
   "metadata": {},
   "outputs": [],
   "source": []
  }
 ],
 "metadata": {
  "kernelspec": {
   "display_name": "Python 3",
   "language": "python",
   "name": "python3"
  },
  "language_info": {
   "codemirror_mode": {
    "name": "ipython",
    "version": 3
   },
   "file_extension": ".py",
   "mimetype": "text/x-python",
   "name": "python",
   "nbconvert_exporter": "python",
   "pygments_lexer": "ipython3",
   "version": "3.11.9"
  }
 },
 "nbformat": 4,
 "nbformat_minor": 5
}
