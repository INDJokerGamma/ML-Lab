{
 "cells": [
  {
   "cell_type": "code",
   "execution_count": 2,
   "id": "d41a0c64",
   "metadata": {},
   "outputs": [],
   "source": [
    "import pandas as pd\n",
    "import numpy as np\n",
    "import matplotlib.pyplot as plt\n",
    "from scipy.stats import norm\n",
    "from sklearn.model_selection import train_test_split\n"
   ]
  },
  {
   "cell_type": "code",
   "execution_count": 3,
   "id": "86bd8343",
   "metadata": {},
   "outputs": [
    {
     "name": "stdout",
     "output_type": "stream",
     "text": [
      "0    135.969879\n",
      "1    136.372114\n",
      "2    136.445012\n",
      "3    136.809516\n",
      "4    137.051238\n",
      "dtype: float64\n",
      "0    170.016971\n",
      "1    163.088392\n",
      "2    166.210441\n",
      "3    170.533190\n",
      "4    158.520717\n",
      "dtype: float64\n"
     ]
    }
   ],
   "source": [
    "f_heights = np.random.normal(152, 5, 1000)\n",
    "m_heights = np.random.normal(166, 5, 1000)\n",
    "\n",
    "# Sort female heights and add outliers (increase 50 largest values by 10 cm)\n",
    "sorted_f_heights = np.sort(f_heights)\n",
    "for i in range(50):\n",
    "    sorted_f_heights[999-i] += 10\n",
    "\n",
    "# Convert to pandas series\n",
    "f_heights_series = pd.Series(sorted_f_heights)\n",
    "m_heights_series = pd.Series(m_heights)\n",
    "\n",
    "# Sizes\n",
    "num_females = f_heights_series.size\n",
    "num_males = m_heights_series.size\n",
    "total = num_females + num_males\n",
    "\n",
    "print(f_heights_series.head())\n",
    "print(m_heights_series.head())\n"
   ]
  },
  {
   "cell_type": "code",
   "execution_count": 4,
   "id": "330affe4",
   "metadata": {},
   "outputs": [
    {
     "data": {
      "image/png": "[encoded data removed]",
      "text/plain": [
       "<Figure size 640x480 with 1 Axes>"
      ]
     },
     "metadata": {},
     "output_type": "display_data"
    }
   ],
   "source": [
    "plt.hist([f_heights_series, m_heights_series], bins=100, label=['female', 'male'])\n",
    "plt.legend()\n",
    "plt.title(\"Height Distribution with Female Outliers\")\n",
    "plt.show()\n"
   ]
  },
  {
   "cell_type": "code",
   "execution_count": 5,
   "id": "f113318e",
   "metadata": {},
   "outputs": [],
   "source": [
    "def z_score(heights, threshold=3):\n",
    "    mean = heights.mean()\n",
    "    std = heights.std()\n",
    "    z_scores = (heights - mean) / std\n",
    "    return heights[abs(z_scores) < threshold]\n"
   ]
  },
  {
   "cell_type": "code",
   "execution_count": 6,
   "id": "53133ecb",
   "metadata": {},
   "outputs": [],
   "source": [
    "female_train_with_outliers, female_test_with_outliers = train_test_split(f_heights_series, test_size=0.2)\n",
    "male_train_with_outliers, male_test_with_outliers = train_test_split(m_heights_series, test_size=0.2)\n",
    "\n",
    "# Remove outliers from female training set\n",
    "female_train_without_outliers = z_score(female_train_with_outliers)\n"
   ]
  },
  {
   "cell_type": "code",
   "execution_count": 7,
   "id": "cd57486d",
   "metadata": {},
   "outputs": [],
   "source": [
    "def threshold_classifier(threshold_increment, f_heights, m_heights):\n",
    "    lower_bound = m_heights.min()\n",
    "    upper_bound = f_heights.max()\n",
    "    total = f_heights.size + m_heights.size\n",
    "\n",
    "    new_lower_bound = np.floor(lower_bound)\n",
    "    new_upper_bound = np.ceil(upper_bound)\n",
    "    \n",
    "    best_rate = 100.0\n",
    "    best_threshold = new_lower_bound\n",
    "    \n",
    "    for threshold in np.arange(new_lower_bound, new_upper_bound+1, threshold_increment):\n",
    "        misclassified_females = sum(f_heights > threshold)\n",
    "        misclassified_males = sum(m_heights < threshold)\n",
    "        mis_rate = 100.0 * (misclassified_females + misclassified_males) / total\n",
    "        if mis_rate < best_rate:\n",
    "            best_threshold = threshold\n",
    "            best_rate = mis_rate\n",
    "    return [best_threshold, best_rate]\n",
    "\n",
    "\n"
   ]
  },
  {
   "cell_type": "code",
   "execution_count": 8,
   "id": "c2aa2ac0",
   "metadata": {},
   "outputs": [],
   "source": [
    "def predict_threshold_classifier(female_test, male_test, threshold_result):\n",
    "    total = female_test.size + male_test.size\n",
    "    threshold = threshold_result[0]\n",
    "    male_errors = np.sum(male_test < threshold)\n",
    "    female_errors = np.sum(female_test > threshold)\n",
    "    mis_rate = 100 * (male_errors + female_errors) / total\n",
    "    return mis_rate"
   ]
  },
  {
   "cell_type": "code",
   "execution_count": null,
   "id": "a11988ba",
   "metadata": {},
   "outputs": [
    {
     "name": "stdout",
     "output_type": "stream",
     "text": [
      "Train with outliers: [np.float64(158.5), 7.625]\n",
      "Train misclassification (with outliers): 7.625\n",
      "Train without outliers: [np.float64(158.5), 6.632975363234365]\n",
      "Train misclassification (without outliers): 6.632975363234365\n",
      "Test misclassification (with outliers): 8.0\n",
      "Test misclassification (without outliers): 8.0\n"
     ]
    }
   ],
   "source": [
    "\n",
    "# With outliers\n",
    "threshold_results = threshold_classifier(0.5, female_train_with_outliers, male_train_with_outliers)\n",
    "print(\"Train with outliers:\", threshold_results)\n",
    "print(\"Train misclassification (with outliers):\", predict_threshold_classifier(female_train_with_outliers, male_train_with_outliers, threshold_results))\n",
    "\n",
    "#without outliers\n",
    "threshold_results_no = threshold_classifier(0.5, female_train_without_outliers, male_train_with_outliers)\n",
    "print(\"Train without outliers:\", threshold_results_no)\n",
    "print(\"Train misclassification (without outliers):\", predict_threshold_classifier(female_train_without_outliers, male_train_with_outliers, threshold_results_no))\n",
    "\n",
    "#test\n",
    "print(\"Test misclassification (with outliers):\", predict_threshold_classifier(female_test_with_outliers, male_test_with_outliers, threshold_results))\n",
    "print(\"Test misclassification (without outliers):\", predict_threshold_classifier(female_test_with_outliers, male_test_with_outliers, threshold_results_no))\n"
   ]
  },
  {
   "cell_type": "code",
   "execution_count": null,
   "id": "302306db",
   "metadata": {},
   "outputs": [],
   "source": [
    "\n",
    "def probability_classifier(f_heights, m_heights):\n",
    "    total = f_heights.size + m_heights.size\n",
    "    male_mean, male_sd = m_heights.mean(), m_heights.std()\n",
    "    female_mean, female_sd = f_heights.mean(), f_heights.std()\n",
    "    \n",
    "    mis_females = sum(norm.pdf(h, female_mean, female_sd) < norm.pdf(h, male_mean, male_sd) \n",
    "                      for h in f_heights)\n",
    "    mis_males = sum(norm.pdf(h, male_mean, male_sd) < norm.pdf(h, female_mean, female_sd) \n",
    "                    for h in m_heights)\n",
    "\n",
    "    mis_rate = 100.0 * (mis_females + mis_males) / total\n",
    "    return mis_rate, male_mean, male_sd, female_mean, female_sd\n"
   ]
  },
  {
   "cell_type": "code",
   "execution_count": null,
   "id": "15022de3",
   "metadata": {},
   "outputs": [],
   "source": [
    "def predict_probability(male_set, female_set, male_mean, male_std, female_mean, female_std):\n",
    "    total = male_set.size + female_set.size\n",
    "    mis_females = sum(norm.pdf(h, female_mean, female_std) < norm.pdf(h, male_mean, male_std) for h in female_set)\n",
    "    mis_males = sum(norm.pdf(h, male_mean, male_std) < norm.pdf(h, female_mean, female_std) for h in male_set)\n",
    "    return 100.0 * (mis_females + mis_males) / total\n",
    "\n",
    "# Train\n",
    "mis_with, male_mean, male_std, female_mean, female_std = probability_classifier(female_train_with_outliers, male_train_with_outliers)\n",
    "mis_without, male_mean_no, male_std_no, female_mean_no, female_std_no = probability_classifier(female_train_without_outliers, male_train_with_outliers)\n",
    "\n"
   ]
  },
  {
   "cell_type": "code",
   "execution_count": 12,
   "id": "be3fbe31",
   "metadata": {},
   "outputs": [
    {
     "name": "stdout",
     "output_type": "stream",
     "text": [
      "Probability misclassification (train with outliers): 8.0\n",
      "Probability misclassification (train without outliers): 7.138344914718888\n",
      "Probability misclassification (test with outliers): 8.75\n",
      "Probability misclassification (test without outliers): 8.5\n"
     ]
    }
   ],
   "source": [
    "print(\"Probability misclassification (train with outliers):\", mis_with)\n",
    "print(\"Probability misclassification (train without outliers):\", mis_without)\n",
    "\n",
    "# Test\n",
    "print(\"Probability misclassification (test with outliers):\", predict_probability(male_test_with_outliers, female_test_with_outliers, male_mean, male_std, female_mean, female_std))\n",
    "print(\"Probability misclassification (test without outliers):\", predict_probability(male_test_with_outliers, female_test_with_outliers, male_mean_no, male_std_no, female_mean_no, female_std_no))\n"
   ]
  },
  {
   "cell_type": "code",
   "execution_count": 13,
   "id": "3a306e03",
   "metadata": {},
   "outputs": [],
   "source": [
    "def quantize(heights, interval_len):\n",
    "    labels = np.floor(heights / interval_len)\n",
    "    return labels.value_counts()\n"
   ]
  },
  {
   "cell_type": "code",
   "execution_count": 14,
   "id": "8ad272e3",
   "metadata": {},
   "outputs": [],
   "source": [
    "def local_classifier(interval_len, f_heights, m_heights):\n",
    "    total = f_heights.size + m_heights.size\n",
    "    male_q = quantize(m_heights, interval_len)\n",
    "    female_q = quantize(f_heights, interval_len)\n",
    "    \n",
    "    lower = int(male_q.index.min())\n",
    "    upper = int(female_q.index.max())\n",
    "    total_mis = 0\n",
    "    results = []\n",
    "    \n",
    "    for interval in range(lower, upper, 1):\n",
    "        f_count = female_q.get(interval, 0)\n",
    "        m_count = male_q.get(interval, 0)\n",
    "        error = min(f_count, m_count)\n",
    "        total_mis += error\n",
    "        results.append({\"interval\": interval, \"female_count\": f_count, \"male_count\": m_count})\n",
    "    \n",
    "    print(\"Misclassification =\", 100.0 * total_mis / total)\n",
    "    return pd.DataFrame(results)"
   ]
  },
  {
   "cell_type": "code",
   "execution_count": 15,
   "id": "cfd3d23b",
   "metadata": {},
   "outputs": [
    {
     "name": "stdout",
     "output_type": "stream",
     "text": [
      "Misclassification = 8.0\n",
      "Misclassification = 7.012002526847757\n"
     ]
    }
   ],
   "source": [
    "local_error_with = local_classifier(2, female_train_with_outliers, male_train_with_outliers)\n",
    "local_error_without = local_classifier(2, female_train_without_outliers, male_train_with_outliers)"
   ]
  },
  {
   "cell_type": "code",
   "execution_count": null,
   "id": "8d9d1b79",
   "metadata": {},
   "outputs": [],
   "source": []
  }
 ],
 "metadata": {
  "kernelspec": {
   "display_name": "Python 3",
   "language": "python",
   "name": "python3"
  },
  "language_info": {
   "codemirror_mode": {
    "name": "ipython",
    "version": 3
   },
   "file_extension": ".py",
   "mimetype": "text/x-python",
   "name": "python",
   "nbconvert_exporter": "python",
   "pygments_lexer": "ipython3",
   "version": "3.11.9"
  }
 },
 "nbformat": 4,
 "nbformat_minor": 5
}
